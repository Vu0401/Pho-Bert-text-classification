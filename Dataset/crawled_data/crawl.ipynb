{
 "cells": [
  {
   "cell_type": "code",
   "execution_count": 1,
   "metadata": {},
   "outputs": [],
   "source": [
    "from selenium import webdriver\n",
    "from selenium.webdriver.common.by import By\n",
    "from selenium.webdriver.support.ui import WebDriverWait\n",
    "from selenium.webdriver.support import expected_conditions as EC\n",
    "import time\n",
    "import random\n",
    "from tqdm import tqdm\n",
    "import pandas as pd"
   ]
  },
  {
   "cell_type": "code",
   "execution_count": 2,
   "metadata": {},
   "outputs": [],
   "source": [
    "PATH = r'C:\\Users\\ADMIN\\Desktop\\New folder\\cleaned_data.csv'\n",
    "df = pd.read_csv(PATH)"
   ]
  },
  {
   "cell_type": "code",
   "execution_count": 3,
   "metadata": {},
   "outputs": [
    {
     "data": {
      "text/html": [
       "<div>\n",
       "<style scoped>\n",
       "    .dataframe tbody tr th:only-of-type {\n",
       "        vertical-align: middle;\n",
       "    }\n",
       "\n",
       "    .dataframe tbody tr th {\n",
       "        vertical-align: top;\n",
       "    }\n",
       "\n",
       "    .dataframe thead th {\n",
       "        text-align: right;\n",
       "    }\n",
       "</style>\n",
       "<table border=\"1\" class=\"dataframe\">\n",
       "  <thead>\n",
       "    <tr style=\"text-align: right;\">\n",
       "      <th></th>\n",
       "      <th>Label</th>\n",
       "      <th>Cleaned_Name</th>\n",
       "    </tr>\n",
       "  </thead>\n",
       "  <tbody>\n",
       "    <tr>\n",
       "      <th>0</th>\n",
       "      <td>ghế văn phòng</td>\n",
       "      <td>ghế</td>\n",
       "    </tr>\n",
       "    <tr>\n",
       "      <th>1</th>\n",
       "      <td>thước dây</td>\n",
       "      <td>thước dây sợi thủy tinh</td>\n",
       "    </tr>\n",
       "    <tr>\n",
       "      <th>2</th>\n",
       "      <td>cưa tay</td>\n",
       "      <td>cưa gỗ cầm tay cán lớn ak</td>\n",
       "    </tr>\n",
       "    <tr>\n",
       "      <th>3</th>\n",
       "      <td>váy đầm</td>\n",
       "      <td>đầm ren cổ tay ngắn cao cấp</td>\n",
       "    </tr>\n",
       "    <tr>\n",
       "      <th>4</th>\n",
       "      <td>dụng cụ đo kiểm tra khác</td>\n",
       "      <td>máy đo độ đồng tâm yan</td>\n",
       "    </tr>\n",
       "    <tr>\n",
       "      <th>...</th>\n",
       "      <td>...</td>\n",
       "      <td>...</td>\n",
       "    </tr>\n",
       "    <tr>\n",
       "      <th>12672</th>\n",
       "      <td>đèn vách</td>\n",
       "      <td>đèn vách xe đạp sgl</td>\n",
       "    </tr>\n",
       "    <tr>\n",
       "      <th>12673</th>\n",
       "      <td>hot deal ẩm thực</td>\n",
       "      <td>lẩu trà sữa dành người tại lẩu trà sữa</td>\n",
       "    </tr>\n",
       "    <tr>\n",
       "      <th>12674</th>\n",
       "      <td>sữa tắm</td>\n",
       "      <td>sữa tắm organic tảo xoắn pizu hãng phân phối c...</td>\n",
       "    </tr>\n",
       "    <tr>\n",
       "      <th>12675</th>\n",
       "      <td>bàn ghế trang điểm</td>\n",
       "      <td>bàn phấn mdf</td>\n",
       "    </tr>\n",
       "    <tr>\n",
       "      <th>12676</th>\n",
       "      <td>bàn phím</td>\n",
       "      <td>bàn phím</td>\n",
       "    </tr>\n",
       "  </tbody>\n",
       "</table>\n",
       "<p>12677 rows × 2 columns</p>\n",
       "</div>"
      ],
      "text/plain": [
       "                          Label  \\\n",
       "0                 ghế văn phòng   \n",
       "1                     thước dây   \n",
       "2                       cưa tay   \n",
       "3                       váy đầm   \n",
       "4      dụng cụ đo kiểm tra khác   \n",
       "...                         ...   \n",
       "12672                  đèn vách   \n",
       "12673          hot deal ẩm thực   \n",
       "12674                   sữa tắm   \n",
       "12675        bàn ghế trang điểm   \n",
       "12676                  bàn phím   \n",
       "\n",
       "                                            Cleaned_Name  \n",
       "0                                                    ghế  \n",
       "1                                thước dây sợi thủy tinh  \n",
       "2                              cưa gỗ cầm tay cán lớn ak  \n",
       "3                            đầm ren cổ tay ngắn cao cấp  \n",
       "4                                 máy đo độ đồng tâm yan  \n",
       "...                                                  ...  \n",
       "12672                                đèn vách xe đạp sgl  \n",
       "12673             lẩu trà sữa dành người tại lẩu trà sữa  \n",
       "12674  sữa tắm organic tảo xoắn pizu hãng phân phối c...  \n",
       "12675                                       bàn phấn mdf  \n",
       "12676                                           bàn phím  \n",
       "\n",
       "[12677 rows x 2 columns]"
      ]
     },
     "execution_count": 3,
     "metadata": {},
     "output_type": "execute_result"
    }
   ],
   "source": [
    "df"
   ]
  },
  {
   "cell_type": "code",
   "execution_count": 4,
   "metadata": {},
   "outputs": [
    {
     "data": {
      "text/plain": [
       "bao đựng ốp lưng điện thoại     300\n",
       "bàn ghế phòng khách             176\n",
       "váy đầm                         158\n",
       "bộ bàn ghế  phòng ăn bếp        115\n",
       "đồ phong thủy                   107\n",
       "                               ... \n",
       "xà đơn                            1\n",
       "thiết bị viễn thông khác          1\n",
       "máy đếm tần số                    1\n",
       "sách điện tử  ebook readers       1\n",
       "bánh pía                          1\n",
       "Name: Label, Length: 1971, dtype: int64"
      ]
     },
     "execution_count": 4,
     "metadata": {},
     "output_type": "execute_result"
    }
   ],
   "source": [
    "# Tính số lượng dòng cho mỗi nhóm Label\n",
    "label_counts = df['Label'].value_counts()\n",
    "label_counts"
   ]
  },
  {
   "cell_type": "code",
   "execution_count": 18,
   "metadata": {},
   "outputs": [
    {
     "name": "stdout",
     "output_type": "stream",
     "text": [
      "1939\n"
     ]
    }
   ],
   "source": [
    "# Lọc ra các nhãn có count < 50\n",
    "labels_below_50 = label_counts[label_counts < 50].index.tolist()\n",
    "\n",
    "print(len(labels_below_50))"
   ]
  },
  {
   "cell_type": "code",
   "execution_count": 8,
   "metadata": {},
   "outputs": [
    {
     "data": {
      "text/plain": [
       "['xe tải', 'đèn thả', 'gỗ mỹ nghệ', 'váy suông', 'các loại phụ kiện ô tô khác']"
      ]
     },
     "execution_count": 8,
     "metadata": {},
     "output_type": "execute_result"
    }
   ],
   "source": [
    "labels_below_50[:5]"
   ]
  },
  {
   "cell_type": "code",
   "execution_count": 9,
   "metadata": {},
   "outputs": [
    {
     "name": "stderr",
     "output_type": "stream",
     "text": [
      "100%|██████████| 1965/1965 [3:39:31<00:00,  6.70s/it]  \n"
     ]
    }
   ],
   "source": [
    "# Initialize the Chrome driver\n",
    "driver = webdriver.Chrome()\n",
    "\n",
    "labels = labels_below_50\n",
    "lbs = []\n",
    "ns = []\n",
    "\n",
    "for lb in tqdm(labels):\n",
    "    label = lb\n",
    "    label_encode = '%20'.join(lb.split())\n",
    "\n",
    "    for p in range(1, 4):  # Duyệt qua 3 trang\n",
    "        url = 'https://tiki.vn/search?q=' + label_encode + f'&page={p}'\n",
    "        driver.get(url)\n",
    "\n",
    "        # Loop through 53 elements to get the name\n",
    "        for i in range(1, 53):\n",
    "            try:\n",
    "                element = WebDriverWait(driver, 2).until(\n",
    "                    EC.presence_of_element_located((\n",
    "                        By.XPATH, \n",
    "                        f'/html/body/div[1]/div[1]/main/div/div[2]/div[1]/div[2]/div[1]/div[{i}]/div/div/div/a/span/div[2]/div[2]/div[2]/div[1]/h3 \\\n",
    "                        | /html/body/div[1]/div[1]/main/div/div[2]/div[1]/div[2]/div[1]/div[{i}]/div/div/a/span/div[2]/div[2]/div[2]/div[1]/h3'\n",
    "                    ))\n",
    "                )\n",
    "                name = element.text.lower()\n",
    "\n",
    "                if len(name) > 0:\n",
    "                    ns.append(name)\n",
    "                    lbs.append(label)\n",
    "                \n",
    "                if lbs.count(label) == 50:\n",
    "                    break\n",
    "\n",
    "            except Exception:\n",
    "                # Nếu không tìm thấy phần tử, tiếp tục với trang tiếp theo\n",
    "                break\n",
    "\n",
    "        if lbs.count(label) == 50:\n",
    "            break\n",
    "\n",
    "# Close the driver\n",
    "driver.quit()"
   ]
  },
  {
   "cell_type": "code",
   "execution_count": 10,
   "metadata": {},
   "outputs": [
    {
     "data": {
      "text/plain": [
       "(96132, 96132)"
      ]
     },
     "execution_count": 10,
     "metadata": {},
     "output_type": "execute_result"
    }
   ],
   "source": [
    "len(lbs), len(ns)"
   ]
  },
  {
   "cell_type": "code",
   "execution_count": 13,
   "metadata": {},
   "outputs": [
    {
     "data": {
      "text/html": [
       "<div>\n",
       "<style scoped>\n",
       "    .dataframe tbody tr th:only-of-type {\n",
       "        vertical-align: middle;\n",
       "    }\n",
       "\n",
       "    .dataframe tbody tr th {\n",
       "        vertical-align: top;\n",
       "    }\n",
       "\n",
       "    .dataframe thead th {\n",
       "        text-align: right;\n",
       "    }\n",
       "</style>\n",
       "<table border=\"1\" class=\"dataframe\">\n",
       "  <thead>\n",
       "    <tr style=\"text-align: right;\">\n",
       "      <th></th>\n",
       "      <th>Label</th>\n",
       "      <th>Name</th>\n",
       "    </tr>\n",
       "  </thead>\n",
       "  <tbody>\n",
       "    <tr>\n",
       "      <th>57578</th>\n",
       "      <td>đồ chơi  trang trí nội thất ô tô</td>\n",
       "      <td>gối tựa đầu ô tô cao su non, kê cổ tựa lưng gh...</td>\n",
       "    </tr>\n",
       "    <tr>\n",
       "      <th>57579</th>\n",
       "      <td>đồ chơi  trang trí nội thất ô tô</td>\n",
       "      <td>miếng lót ghế tản nhiệt</td>\n",
       "    </tr>\n",
       "    <tr>\n",
       "      <th>57580</th>\n",
       "      <td>đồ chơi  trang trí nội thất ô tô</td>\n",
       "      <td>ốp nội thất cross - ốp trang trí nội thất toyo...</td>\n",
       "    </tr>\n",
       "    <tr>\n",
       "      <th>57581</th>\n",
       "      <td>đồ chơi  trang trí nội thất ô tô</td>\n",
       "      <td>thảm lót sàn xe ô tô hyundai elantra 2017- 202...</td>\n",
       "    </tr>\n",
       "    <tr>\n",
       "      <th>57582</th>\n",
       "      <td>đồ chơi  trang trí nội thất ô tô</td>\n",
       "      <td>trang trí ô tô mở mắt và lắc đầu lợn đồ chơi b...</td>\n",
       "    </tr>\n",
       "  </tbody>\n",
       "</table>\n",
       "</div>"
      ],
      "text/plain": [
       "                                  Label  \\\n",
       "57578  đồ chơi  trang trí nội thất ô tô   \n",
       "57579  đồ chơi  trang trí nội thất ô tô   \n",
       "57580  đồ chơi  trang trí nội thất ô tô   \n",
       "57581  đồ chơi  trang trí nội thất ô tô   \n",
       "57582  đồ chơi  trang trí nội thất ô tô   \n",
       "\n",
       "                                                    Name  \n",
       "57578  gối tựa đầu ô tô cao su non, kê cổ tựa lưng gh...  \n",
       "57579                            miếng lót ghế tản nhiệt  \n",
       "57580  ốp nội thất cross - ốp trang trí nội thất toyo...  \n",
       "57581  thảm lót sàn xe ô tô hyundai elantra 2017- 202...  \n",
       "57582  trang trí ô tô mở mắt và lắc đầu lợn đồ chơi b...  "
      ]
     },
     "execution_count": 13,
     "metadata": {},
     "output_type": "execute_result"
    }
   ],
   "source": [
    "df[df.Label =='đồ chơi  trang trí nội thất ô tô'][:5]"
   ]
  },
  {
   "cell_type": "code",
   "execution_count": 15,
   "metadata": {},
   "outputs": [],
   "source": [
    "# Hàm để chuẩn hóa chuỗi\n",
    "def normalize_label(label):\n",
    "    # Loại bỏ khoảng trắng thừa và chuẩn hóa dấu cách\n",
    "    return ' '.join(label.strip().split())\n",
    "\n",
    "# Áp dụng hàm normalize_label cho từng phần tử trong cột 'Label'\n",
    "df['Label'] = df['Label'].apply(normalize_label)"
   ]
  },
  {
   "cell_type": "code",
   "execution_count": 19,
   "metadata": {},
   "outputs": [
    {
     "data": {
      "text/html": [
       "<div>\n",
       "<style scoped>\n",
       "    .dataframe tbody tr th:only-of-type {\n",
       "        vertical-align: middle;\n",
       "    }\n",
       "\n",
       "    .dataframe tbody tr th {\n",
       "        vertical-align: top;\n",
       "    }\n",
       "\n",
       "    .dataframe thead th {\n",
       "        text-align: right;\n",
       "    }\n",
       "</style>\n",
       "<table border=\"1\" class=\"dataframe\">\n",
       "  <thead>\n",
       "    <tr style=\"text-align: right;\">\n",
       "      <th></th>\n",
       "      <th>Label</th>\n",
       "      <th>Name</th>\n",
       "    </tr>\n",
       "  </thead>\n",
       "  <tbody>\n",
       "  </tbody>\n",
       "</table>\n",
       "</div>"
      ],
      "text/plain": [
       "Empty DataFrame\n",
       "Columns: [Label, Name]\n",
       "Index: []"
      ]
     },
     "execution_count": 19,
     "metadata": {},
     "output_type": "execute_result"
    }
   ],
   "source": [
    "df[df.Label =='đồ chơi  trang trí nội thất ô tô'][:5]"
   ]
  },
  {
   "cell_type": "code",
   "execution_count": 24,
   "metadata": {},
   "outputs": [
    {
     "name": "stdout",
     "output_type": "stream",
     "text": [
      "          Label                                               Name\n",
      "0        mobile  điện thoại ai samsung galaxy s24 ultra 12gb/25...\n",
      "1        mobile  điện thoại samsung galaxy a15 lte (8gb/128gb)-...\n",
      "2        mobile  điện thoại samsung galaxy a05 (4gb/128gb) - đã...\n",
      "3        mobile  điện thoại samsung galaxy a05s (4gb/128gb) - đ...\n",
      "4        mobile                                    apple iphone 13\n",
      "...         ...                                                ...\n",
      "96127  bánh pía  bánh dừa nướng - đặc sản quảng nam 180g hiệu p...\n",
      "96128  bánh pía  bánh gạo lứt mầm gufoods (bánh mầm) - giàu gab...\n",
      "96129  bánh pía  set 5 gói bánh dừa nướng 180g - đặc sản quảng ...\n",
      "96130  bánh pía  đặc sản sóc trăng - bánh pía sóc trăng đậu xan...\n",
      "96131  bánh pía          bánh pía mỹ hiệp thành đặc biệt vàng 570g\n",
      "\n",
      "[96132 rows x 2 columns]\n"
     ]
    }
   ],
   "source": [
    "# Chuyển đổi danh sách thành DataFrame\n",
    "df = pd.DataFrame({\n",
    "    'Label': lbs,\n",
    "    'Name': ns\n",
    "})\n",
    "\n",
    "# Xuất kết quả\n",
    "print(df)\n",
    "\n",
    "# Lưu DataFrame vào file CSV nếu cần\n",
    "df.to_csv('output.csv', index=False, encoding='utf-8')"
   ]
  }
 ],
 "metadata": {
  "kernelspec": {
   "display_name": "base",
   "language": "python",
   "name": "python3"
  },
  "language_info": {
   "codemirror_mode": {
    "name": "ipython",
    "version": 3
   },
   "file_extension": ".py",
   "mimetype": "text/x-python",
   "name": "python",
   "nbconvert_exporter": "python",
   "pygments_lexer": "ipython3",
   "version": "3.9.13"
  }
 },
 "nbformat": 4,
 "nbformat_minor": 2
}
